{
  "nbformat": 4,
  "nbformat_minor": 0,
  "metadata": {
    "colab": {
      "provenance": [],
      "collapsed_sections": []
    },
    "kernelspec": {
      "name": "python3",
      "display_name": "Python 3"
    },
    "language_info": {
      "name": "python"
    }
  },
  "cells": [
    {
      "cell_type": "markdown",
      "source": [
        "# Requirements"
      ],
      "metadata": {
        "id": "sBDLUoQguxYQ"
      }
    },
    {
      "cell_type": "code",
      "source": [
        "!pip install neattext"
      ],
      "metadata": {
        "id": "GqqbzcTq5QbC"
      },
      "execution_count": null,
      "outputs": []
    },
    {
      "cell_type": "code",
      "source": [
        "import pandas as pd\n",
        "import numpy as np\n",
        "import seaborn as sns\n",
        "\n",
        "import neattext.functions as nfx\n",
        "from sklearn.linear_model import LogisticRegression\n",
        "from sklearn.naive_bayes import MultinomialNB\n",
        "\n",
        "from sklearn.feature_extraction.text import CountVectorizer\n",
        "from sklearn.model_selection import train_test_split\n",
        "from sklearn.metrics import accuracy_score,classification_report,confusion_matrix\n",
        "from sklearn.pipeline import Pipeline "
      ],
      "metadata": {
        "id": "Npt3_L-q4rAE"
      },
      "execution_count": 12,
      "outputs": []
    },
    {
      "cell_type": "markdown",
      "source": [
        "# Load and Clean Data"
      ],
      "metadata": {
        "id": "3pVNV8WK5wJQ"
      }
    },
    {
      "cell_type": "code",
      "source": [
        "raw_text = pd.read_csv('/content/drive/MyDrive/Sentiment Analysis/emotion_dataset_raw.csv')\n",
        "raw_text['Clean_Text'] = raw_text['Text'].apply(nfx.remove_userhandles)\n",
        "raw_text['Clean_Text'] = raw_text['Clean_Text'].apply(nfx.remove_stopwords)"
      ],
      "metadata": {
        "id": "vYDTM0Fa53Ax"
      },
      "execution_count": 7,
      "outputs": []
    },
    {
      "cell_type": "markdown",
      "source": [
        "# Simple Logistic Regression Model"
      ],
      "metadata": {
        "id": "jBhZFJ4T702o"
      }
    },
    {
      "cell_type": "code",
      "source": [
        "X = raw_text['Clean_Text']\n",
        "y = raw_text['Emotion']\n",
        "X_train,X_test,y_train,y_test = train_test_split(X,y,test_size=0.3,random_state=42)"
      ],
      "metadata": {
        "id": "7BoMS0Mb74XX"
      },
      "execution_count": 10,
      "outputs": []
    },
    {
      "cell_type": "code",
      "source": [
        "pipe_lr = Pipeline(steps=[('cv',CountVectorizer()),('lr',LogisticRegression())])\n",
        "pipe_lr.fit(X_train,y_train)"
      ],
      "metadata": {
        "id": "_ylxuhT-8Hzn"
      },
      "execution_count": null,
      "outputs": []
    },
    {
      "cell_type": "code",
      "source": [
        "pipe_lr.score(X_test,y_test)"
      ],
      "metadata": {
        "colab": {
          "base_uri": "https://localhost:8080/"
        },
        "id": "JaizieOP8ZmI",
        "outputId": "b1d21ac0-0f1e-4450-f311-0d70f405cc21"
      },
      "execution_count": 16,
      "outputs": [
        {
          "output_type": "execute_result",
          "data": {
            "text/plain": [
              "0.6200421536692853"
            ]
          },
          "metadata": {},
          "execution_count": 16
        }
      ]
    }
  ]
}